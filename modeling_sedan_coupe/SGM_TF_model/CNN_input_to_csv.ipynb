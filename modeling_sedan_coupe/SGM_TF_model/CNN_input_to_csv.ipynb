{
 "cells": [
  {
   "cell_type": "code",
   "execution_count": 1,
   "metadata": {},
   "outputs": [],
   "source": [
    "import pandas as pd\n",
    "import numpy as np\n",
    "import pickle as p\n",
    "\n",
    "import tensorflow as tf\n",
    "tf.logging.set_verbosity(tf.logging.INFO)\n",
    "#tf.enable_eager_execution()\n",
    "from sklearn.model_selection import train_test_split\n",
    "\n",
    "from PIL import Image\n",
    "from matplotlib.pyplot import imshow\n",
    "import matplotlib.pyplot as plt"
   ]
  },
  {
   "cell_type": "markdown",
   "metadata": {},
   "source": [
    "Compile the training data"
   ]
  },
  {
   "cell_type": "code",
   "execution_count": 2,
   "metadata": {},
   "outputs": [],
   "source": [
    "meta_data = pd.read_csv('/home/ec2-user/training_data_meta.csv')\n",
    "\n",
    "#Join cleaned class data with training metadata\n",
    "\n",
    "class_data = pd.read_csv('/home/ec2-user/stanford_labels_cleaned.csv')\n",
    "\n",
    "meta_data = pd.merge(meta_data, class_data, on = 'class', how = 'left')\n",
    "\n",
    "meta_data = meta_data.loc[meta_data['Body Type'].isin(['Coupe', 'Sedan'])].copy()\n",
    "\n",
    "meta_data['is_sedan_target'] = (meta_data['Body Type'] == 'Sedan').astype(int)\n",
    "\n",
    "image_dict = p.load(open('/home/ec2-user/scaled_bounded_grayscale_dict.p', 'rb'))\n",
    "\n",
    "training_data = []\n",
    "for i in meta_data[['is_sedan_target', 'fname']].iterrows():\n",
    "    row = [i[1]['is_sedan_target']]\n",
    "    row.extend(image_dict[i[1]['fname']].flatten())\n",
    "    training_data.append(row)\n",
    "\n",
    "training_data = np.array(training_data).astype(float)"
   ]
  },
  {
   "cell_type": "markdown",
   "metadata": {},
   "source": [
    "Prep the data"
   ]
  },
  {
   "cell_type": "code",
   "execution_count": 3,
   "metadata": {},
   "outputs": [],
   "source": [
    "X_train, X_test, y_train, y_test = train_test_split(training_data[:,1:], \n",
    "                                                    training_data[:,0], \n",
    "                                                    test_size=0.30, \n",
    "                                                    random_state=420)\n",
    "\n",
    "y_train = y_train.astype('int32')\n",
    "y_test = y_test.astype('int32')\n",
    "\n",
    "negatives = []\n",
    "for ind, elem in enumerate(y_train):\n",
    "    if elem == 0:\n",
    "        negatives.append(ind)\n",
    "np.random.shuffle(negatives)\n",
    "\n",
    "neg_dupe_target = 2 * y_train.sum() - y_train.shape[0]\n",
    "\n",
    "X_train = np.concatenate([X_train, X_train[negatives[0:neg_dupe_target],:]],\n",
    "                         axis = 0\n",
    "                        )\n",
    "y_train = np.concatenate([y_train, y_train[negatives[0:neg_dupe_target]]],\n",
    "                         axis = 0\n",
    "                        )\n",
    "\n",
    "y_train = np.concatenate([1 - y_train.reshape(-1,1), y_train.reshape(-1,1)], axis = 1)\n",
    "y_test = np.concatenate([1 - y_test.reshape(-1,1), y_test.reshape(-1,1)], axis = 1)"
   ]
  },
  {
   "cell_type": "code",
   "execution_count": 4,
   "metadata": {},
   "outputs": [],
   "source": [
    "np.savetxt('/home/ec2-user/train.csv', np.concatenate([X_train, y_train], axis = 1), delimiter = ',')"
   ]
  },
  {
   "cell_type": "code",
   "execution_count": 5,
   "metadata": {},
   "outputs": [],
   "source": [
    "np.savetxt('/home/ec2-user/test.csv', np.concatenate([X_test, y_test], axis = 1), delimiter = ',')"
   ]
  },
  {
   "cell_type": "code",
   "execution_count": null,
   "metadata": {},
   "outputs": [],
   "source": []
  },
  {
   "cell_type": "code",
   "execution_count": 2,
   "metadata": {},
   "outputs": [
    {
     "name": "stderr",
     "output_type": "stream",
     "text": [
      "ERROR:root:Internal Python error in the inspect module.\n",
      "Below is the traceback from this internal error.\n",
      "\n",
      "\n",
      "KeyboardInterrupt\n",
      "\n"
     ]
    }
   ],
   "source": [
    "hold = np.genfromtxt('/home/ec2-user/train.csv', delimiter = ',')"
   ]
  },
  {
   "cell_type": "code",
   "execution_count": null,
   "metadata": {},
   "outputs": [],
   "source": []
  }
 ],
 "metadata": {
  "kernelspec": {
   "display_name": "Python 3",
   "language": "python",
   "name": "python3"
  },
  "language_info": {
   "codemirror_mode": {
    "name": "ipython",
    "version": 3
   },
   "file_extension": ".py",
   "mimetype": "text/x-python",
   "name": "python",
   "nbconvert_exporter": "python",
   "pygments_lexer": "ipython3",
   "version": "3.7.1"
  }
 },
 "nbformat": 4,
 "nbformat_minor": 2
}
