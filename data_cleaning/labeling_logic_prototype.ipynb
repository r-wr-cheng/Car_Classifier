{
 "cells": [
  {
   "cell_type": "code",
   "execution_count": 1,
   "metadata": {
    "collapsed": true
   },
   "outputs": [],
   "source": [
    "import pandas as pd\n",
    "from PIL import Image\n",
    "from matplotlib.pyplot import imshow\n",
    "import numpy as np"
   ]
  },
  {
   "cell_type": "code",
   "execution_count": 2,
   "metadata": {
    "collapsed": true
   },
   "outputs": [],
   "source": [
    "training_data = pd.read_csv('/home/ec2-user/training_data_meta.csv')"
   ]
  },
  {
   "cell_type": "code",
   "execution_count": 3,
   "metadata": {
    "collapsed": true,
    "scrolled": true
   },
   "outputs": [],
   "source": [
    "#Join cleaned class data with training metadata\n",
    "\n",
    "labels = pd.read_csv('/home/ec2-user/stanford_labels_cleaned.csv')"
   ]
  },
  {
   "cell_type": "code",
   "execution_count": 4,
   "metadata": {
    "collapsed": true,
    "scrolled": true
   },
   "outputs": [],
   "source": [
    "training_data = pd.merge(training_data, labels, on = 'class', how = 'left')"
   ]
  },
  {
   "cell_type": "code",
   "execution_count": 5,
   "metadata": {
    "collapsed": false
   },
   "outputs": [
    {
     "data": {
      "text/plain": [
       "Sedan          2075\n",
       "SUV            1558\n",
       "Coupe          1540\n",
       "Convertible    1036\n",
       "Crew Cab        381\n",
       "Hatchback       380\n",
       "Cab             297\n",
       "Van             291\n",
       "Wagon           253\n",
       "Minivan         250\n",
       "Quad Cab         44\n",
       "Club Cab         39\n",
       "Name: Body Type, dtype: int64"
      ]
     },
     "execution_count": 5,
     "metadata": {},
     "output_type": "execute_result"
    }
   ],
   "source": [
    "training_data['Body Type'].value_counts()"
   ]
  },
  {
   "cell_type": "markdown",
   "metadata": {},
   "source": [
    "Sedan          2075\n",
    "SUV            1558\n",
    "Coupe          1540\n",
    "Convertible    1036"
   ]
  },
  {
   "cell_type": "markdown",
   "metadata": {},
   "source": [
    "Should hatchbacks be sedans? Or SUVs? Perhaps leave out and use as interesting test case. Same with convertibles."
   ]
  },
  {
   "cell_type": "markdown",
   "metadata": {},
   "source": [
    "Covertible vs. Coupe. Is this distinction important? Maybe add in an extra field for door count"
   ]
  },
  {
   "cell_type": "markdown",
   "metadata": {},
   "source": [
    "Put off crew cab/pickups for now but this will need review. Crew cab seems to have 2 rows. Cab just one."
   ]
  },
  {
   "cell_type": "markdown",
   "metadata": {},
   "source": [
    "Bounding boxes are potentially necessary"
   ]
  }
 ],
 "metadata": {
  "kernelspec": {
   "display_name": "Python 2",
   "language": "python",
   "name": "python2"
  },
  "language_info": {
   "codemirror_mode": {
    "name": "ipython",
    "version": 2
   },
   "file_extension": ".py",
   "mimetype": "text/x-python",
   "name": "python",
   "nbconvert_exporter": "python",
   "pygments_lexer": "ipython2",
   "version": "2.7.11"
  }
 },
 "nbformat": 4,
 "nbformat_minor": 2
}
